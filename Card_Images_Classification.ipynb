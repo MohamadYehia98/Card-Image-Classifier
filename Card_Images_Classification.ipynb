{
 "cells": [
  {
   "cell_type": "code",
   "execution_count": null,
   "metadata": {
    "id": "tCjeN5gvyEam"
   },
   "outputs": [],
   "source": [
    "# Import the dependencies\n",
    "import kagglehub\n",
    "import numpy as np\n",
    "import pandas as pd\n",
    "import seaborn as sns\n",
    "import matplotlib.pyplot as plt\n",
    "import tensorflow as tf\n",
    "import os\n",
    "import random\n",
    "import matplotlib.image as mpimg\n",
    "from PIL import Image\n",
    "from tensorflow.keras.models import Sequential\n",
    "from tensorflow.keras.layers import Conv2D, MaxPooling2D, Flatten, Dense, Dropout"
   ]
  },
  {
   "cell_type": "code",
   "execution_count": null,
   "metadata": {
    "colab": {
     "base_uri": "https://localhost:8080/"
    },
    "id": "JDtjV9-JyaHt",
    "outputId": "0aa9cecb-66ae-413f-cda3-e514545a3adc"
   },
   "outputs": [],
   "source": [
    "# Download latest version Dataset from kaggle\n",
    "path = kagglehub.dataset_download(\"gpiosenka/cards-image-datasetclassification\")\n",
    "\n",
    "print(\"Path to dataset files:\", path)"
   ]
  },
  {
   "cell_type": "code",
   "execution_count": null,
   "metadata": {
    "colab": {
     "base_uri": "https://localhost:8080/"
    },
    "id": "kecKyQ3cCBif",
    "outputId": "a7df838d-2784-43dc-d8bd-75a688e0ae49"
   },
   "outputs": [],
   "source": [
    "# Display train , test and validation set with its data\n",
    "def simple_dataset_info(path):\n",
    "    for split in ['train', 'valid', 'test']:\n",
    "        split_path = os.path.join(path, split)\n",
    "        if not os.path.exists(split_path):\n",
    "            print(f\"{split} folder not found.\")\n",
    "            continue\n",
    "\n",
    "        classes = [d for d in os.listdir(split_path) if os.path.isdir(os.path.join(split_path, d))]\n",
    "        total_images = 0\n",
    "\n",
    "        for cls in classes:\n",
    "            class_path = os.path.join(split_path, cls)\n",
    "            num_images = len(os.listdir(class_path))\n",
    "            total_images += num_images\n",
    "\n",
    "        print(f\"{split.upper()}:\")\n",
    "        print(f\"  Classes: {len(classes)}\")\n",
    "        print(f\"  Total Images: {total_images}\\n\")\n",
    "\n",
    "# Run it\n",
    "simple_dataset_info(path)\n"
   ]
  },
  {
   "cell_type": "code",
   "execution_count": null,
   "metadata": {
    "colab": {
     "base_uri": "https://localhost:8080/",
     "height": 478
    },
    "id": "-MtAAGw48nBa",
    "outputId": "06af05ed-c111-42ff-bc74-35d786d7565c"
   },
   "outputs": [],
   "source": [
    "# Display training data images and labels\n",
    "def show_random_images(split='train', num_images=6):\n",
    "    split_path = os.path.join(path, split)\n",
    "    classes = [d for d in os.listdir(split_path) if os.path.isdir(os.path.join(split_path, d))]\n",
    "\n",
    "    plt.figure(figsize=(7,7))\n",
    "    for i in range(num_images):\n",
    "        random_class = random.choice(classes)\n",
    "        class_path = os.path.join(split_path, random_class)\n",
    "        image_file = random.choice(os.listdir(class_path))\n",
    "        img_path = os.path.join(class_path, image_file)\n",
    "\n",
    "        img = mpimg.imread(img_path)\n",
    "        plt.subplot(3, 3, i+1)\n",
    "        plt.imshow(img)\n",
    "        plt.title(random_class)\n",
    "        plt.axis('off')\n",
    "\n",
    "    plt.tight_layout()\n",
    "    plt.show()\n",
    "\n",
    "# Example\n",
    "show_random_images('train')\n"
   ]
  },
  {
   "cell_type": "code",
   "execution_count": null,
   "metadata": {
    "id": "hzyK10p88nC8"
   },
   "outputs": [],
   "source": [
    "img_size = (128, 128)"
   ]
  },
  {
   "cell_type": "code",
   "execution_count": null,
   "metadata": {
    "id": "7nURAaR58nES"
   },
   "outputs": [],
   "source": [
    "\n",
    "def load_data(split):\n",
    "    X = []\n",
    "    y = []\n",
    "    split_path = os.path.join(path, split)\n",
    "    class_names = sorted(os.listdir(split_path))  # Sorted to have consistent label mapping\n",
    "    class_to_idx = {cls: idx for idx, cls in enumerate(class_names)}\n",
    "\n",
    "    for c in class_names:\n",
    "        c_path = os.path.join(split_path, c)\n",
    "        if not os.path.isdir(c_path):\n",
    "            continue\n",
    "        for img_name in os.listdir(c_path):\n",
    "            img_path = os.path.join(c_path, img_name)\n",
    "            try:\n",
    "                img = Image.open(img_path).convert('RGB')\n",
    "                img = img.resize(img_size)\n",
    "                img = np.array(img) / 255.0  # normalize to [0, 1]\n",
    "                X.append(img)\n",
    "                y.append(class_to_idx[c])\n",
    "            except:\n",
    "                print(f\"Error loading {img_path}\")\n",
    "\n",
    "    return np.array(X), np.array(y), class_to_idx\n"
   ]
  },
  {
   "cell_type": "code",
   "execution_count": null,
   "metadata": {
    "colab": {
     "base_uri": "https://localhost:8080/"
    },
    "id": "MOq0_AhJDoTb",
    "outputId": "d163fe41-260f-4fff-a7b9-3d87f9ba9c6d"
   },
   "outputs": [],
   "source": [
    "X_train, y_train, class_map = load_data('train')\n",
    "X_valid, y_valid, _ = load_data('valid')\n",
    "X_test, y_test, _ = load_data('test')\n",
    "\n",
    "print(f\"Train: {X_train.shape}, Labels: {y_train.shape}\")\n",
    "print(f\"Valid: {X_valid.shape}, Labels: {y_valid.shape}\")\n",
    "print(f\"Test: {X_test.shape}, Labels: {y_test.shape}\")"
   ]
  },
  {
   "cell_type": "code",
   "execution_count": null,
   "metadata": {
    "colab": {
     "base_uri": "https://localhost:8080/"
    },
    "id": "6REHfGejSex0",
    "outputId": "2952a0b5-83b5-4d96-eda9-5ce22cebb2c1"
   },
   "outputs": [],
   "source": [
    "X_train[10]"
   ]
  },
  {
   "cell_type": "code",
   "execution_count": null,
   "metadata": {
    "id": "YS2m4FZhEx29"
   },
   "outputs": [],
   "source": [
    "input_shape = X_train.shape[1:]\n",
    "num_classes = len(np.unique(y_train))"
   ]
  },
  {
   "cell_type": "code",
   "execution_count": null,
   "metadata": {
    "id": "JM1DlI2PFrwt"
   },
   "outputs": [],
   "source": [
    "from tensorflow.keras.utils import to_categorical\n",
    "\n",
    "# One-hot encode the labels\n",
    "y_train = to_categorical(y_train, num_classes)\n",
    "y_valid = to_categorical(y_valid, num_classes)\n",
    "y_test = to_categorical(y_test, num_classes)\n"
   ]
  },
  {
   "cell_type": "code",
   "execution_count": null,
   "metadata": {
    "colab": {
     "base_uri": "https://localhost:8080/"
    },
    "id": "5sPv9NIaEld3",
    "outputId": "af74b469-7e4e-4975-8718-c2b0ec94c7cd"
   },
   "outputs": [],
   "source": [
    "# Create The Cnn model\n",
    "model = Sequential([\n",
    "    Conv2D(32, (3, 3), activation='relu', input_shape=input_shape),\n",
    "    MaxPooling2D(pool_size=(2, 2)),\n",
    "\n",
    "    Conv2D(64, (3, 3), activation='relu',),\n",
    "    MaxPooling2D(pool_size=(2, 2)),\n",
    "\n",
    "    Conv2D(128, (3, 3), activation='relu',),\n",
    "    MaxPooling2D(pool_size=(2, 2)),\n",
    "\n",
    "    Flatten(),\n",
    "    Dropout(0.5),\n",
    "    Dense(128, activation='relu'),\n",
    "    Dense(num_classes, activation='softmax')\n",
    "])\n"
   ]
  },
  {
   "cell_type": "code",
   "execution_count": null,
   "metadata": {
    "id": "_OCrmPTeElgu"
   },
   "outputs": [],
   "source": [
    "model.compile(\n",
    "    optimizer='adam',\n",
    "    loss='categorical_crossentropy',\n",
    "    metrics=['accuracy']\n",
    ")"
   ]
  },
  {
   "cell_type": "code",
   "execution_count": null,
   "metadata": {
    "colab": {
     "base_uri": "https://localhost:8080/"
    },
    "id": "JDdWGpbMElmM",
    "outputId": "54c6990f-8e09-44c0-9828-23c0fe897e25"
   },
   "outputs": [],
   "source": [
    "history = model.fit(\n",
    "    X_train, y_train,\n",
    "    validation_data=(X_valid, y_valid),\n",
    "    epochs=10,\n",
    "    batch_size=16\n",
    ")"
   ]
  },
  {
   "cell_type": "code",
   "execution_count": null,
   "metadata": {
    "colab": {
     "base_uri": "https://localhost:8080/"
    },
    "id": "yogoL6pEElr0",
    "outputId": "8b0e0920-5972-463d-c496-d0973aebcc46"
   },
   "outputs": [],
   "source": [
    "test_loss, test_accuracy = model.evaluate(X_test, y_test)\n",
    "print(f\"Test Loss: {test_loss}\")\n",
    "print(f\"Test Accuracy: {test_accuracy}\")\n"
   ]
  },
  {
   "cell_type": "code",
   "execution_count": null,
   "metadata": {
    "colab": {
     "base_uri": "https://localhost:8080/"
    },
    "id": "V_3Ntv8FJ6eR",
    "outputId": "61152a0c-9c80-4d06-d966-7bf7f1fa4b99"
   },
   "outputs": [],
   "source": [
    "#Activate to create folders to your google colab\n",
    "\n",
    "\"\"\"\n",
    "from google.colab import drive\n",
    "drive.mount('/content/drive')\n",
    "\n",
    "import os\n",
    "result_dir = '/content/drive/MyDrive/re'\n",
    "model_dir = '/content/drive/MyDrive/ImageClassification'\n",
    "\n",
    "# Create dir if not exist\n",
    "os.makedirs(result_dir , exist_ok=True)\n",
    "os.makedirs(model_dir , exist_ok=True)\n",
    "\n",
    "\"\"\""
   ]
  },
  {
   "cell_type": "code",
   "execution_count": null,
   "metadata": {
    "colab": {
     "base_uri": "https://localhost:8080/"
    },
    "id": "ay4unPKVJ6tc",
    "outputId": "1dd303f4-1eae-424c-d336-4f851a149483"
   },
   "outputs": [],
   "source": [
    "# Save The model\n",
    "# ( Activate if you want to save the model )\n",
    "\"\"\"\n",
    "model.save(f\"{model_dir}/card.h5\")\n",
    "from tensorflow.keras.models import load_model\n",
    "# Load the saved model\n",
    "Loaded_model = load_model(f\"{model_dir}/card.h5\")\n",
    "\n",
    "\"\"\""
   ]
  },
  {
   "cell_type": "code",
   "execution_count": null,
   "metadata": {
    "colab": {
     "base_uri": "https://localhost:8080/"
    },
    "id": "MkTI1lQUHCS9",
    "outputId": "c74510f7-c090-48e9-cd35-a0a2218cd9e8"
   },
   "outputs": [],
   "source": [
    "# Predict on the test set\n",
    "predictions = model.predict(X_test)\n",
    "\n",
    "# Get the predicted class index label\n",
    "predicted_classes = np.argmax(predictions, axis=1)\n",
    "\n",
    "# Get the true class labels\n",
    "true_classes = np.argmax(y_test, axis=1)\n"
   ]
  },
  {
   "cell_type": "code",
   "execution_count": null,
   "metadata": {
    "colab": {
     "base_uri": "https://localhost:8080/",
     "height": 614
    },
    "id": "dCewJAalIPHm",
    "outputId": "e531692f-7fb1-4913-b525-2cdc14d5b8cd"
   },
   "outputs": [],
   "source": [
    "train_path = os.path.join(path, 'train')\n",
    "class_names = sorted(os.listdir(train_path))\n",
    "\n",
    "fig, axes = plt.subplots(2, 3, figsize=(7,7))\n",
    "\n",
    "# Choose 6 random indices for the test set\n",
    "random_indices = random.sample(range(len(X_test)), 6)\n",
    "\n",
    "for idx, ax in zip(random_indices, axes.flat):\n",
    "    ax.imshow(X_test[idx])\n",
    "    ax.set_title(f\"Pred: {class_names[predicted_classes[idx]]}\\nTrue: {class_names[true_classes[idx]]}\")\n",
    "    ax.axis('off')\n",
    "\n",
    "plt.tight_layout()\n",
    "plt.show()"
   ]
  }
 ],
 "metadata": {
  "accelerator": "GPU",
  "colab": {
   "gpuType": "T4",
   "provenance": []
  },
  "kernelspec": {
   "display_name": "Python 3",
   "name": "python3"
  },
  "language_info": {
   "name": "python"
  }
 },
 "nbformat": 4,
 "nbformat_minor": 0
}
